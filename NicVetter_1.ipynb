{
 "cells": [
  {
   "cell_type": "markdown",
   "metadata": {},
   "source": [
    "# Nic Vetter Module 4 Project part 1 - Github link: [Github](https://github.com/VetterNic), Repo Link: [datafun-04-notebooks](https://github.com/VetterNic/datafun-04-notebooks)\n"
   ]
  },
  {
   "cell_type": "markdown",
   "metadata": {},
   "source": [
    "## Task 1 - Series"
   ]
  },
  {
   "cell_type": "code",
   "execution_count": 101,
   "metadata": {},
   "outputs": [],
   "source": [
    "import pandas as pd\n",
    "import numpy as np"
   ]
  },
  {
   "cell_type": "code",
   "execution_count": 102,
   "metadata": {},
   "outputs": [],
   "source": [
    "grades = pd.Series([90, 82, 79, 68, 95, 98, 58, 76, 72, 87, 89, 90])"
   ]
  },
  {
   "cell_type": "markdown",
   "metadata": {},
   "source": [
    "## Task 1 series"
   ]
  },
  {
   "cell_type": "code",
   "execution_count": 103,
   "metadata": {},
   "outputs": [
    {
     "name": "stdout",
     "output_type": "stream",
     "text": [
      "First Grade: 90\n",
      "Number of Grades: 12\n",
      "Lowest Grade: 58\n",
      "Highest Grade: 98\n",
      "Std Dev of Grades: 11.847516041923571\n",
      "Grades Description: count    12.000000\n",
      "mean     82.000000\n",
      "std      11.847516\n",
      "min      58.000000\n",
      "25%      75.000000\n",
      "50%      84.500000\n",
      "75%      90.000000\n",
      "max      98.000000\n",
      "dtype: float64\n"
     ]
    }
   ],
   "source": [
    "first_grade = grades[0]\n",
    "\n",
    "grades_count = grades.count()\n",
    "\n",
    "grades_min = grades.min()\n",
    "\n",
    "grades_max = grades.max()\n",
    "\n",
    "grades_std_dev = grades.std()\n",
    "\n",
    "grades_description = grades.describe()\n",
    "\n",
    "print(f\"First Grade: {first_grade}\")\n",
    "\n",
    "print(f\"Number of Grades: {grades_count}\")\n",
    "\n",
    "print(f\"Lowest Grade: {grades_min}\")\n",
    "\n",
    "print(f\"Highest Grade: {grades_max}\")\n",
    "\n",
    "print(f\"Std Dev of Grades: {grades_std_dev}\")\n",
    "\n",
    "print(f\"Grades Description: {grades_description}\")\n"
   ]
  },
  {
   "cell_type": "markdown",
   "metadata": {},
   "source": [
    "## Task 2 - Series from Dictionary"
   ]
  },
  {
   "cell_type": "code",
   "execution_count": 104,
   "metadata": {},
   "outputs": [],
   "source": [
    "grades = pd.Series({'Wilson': 90, 'Wally': 82, 'Dawn': 79, 'Tina': 68, 'Eva': 95, 'Jerome': 98, 'Gabe': 58, 'Jerry': 76, 'Bill': 72, 'Mac': 87, 'Mitch': 89, 'Nick': 90})"
   ]
  },
  {
   "cell_type": "code",
   "execution_count": 105,
   "metadata": {},
   "outputs": [
    {
     "data": {
      "text/plain": [
       "95"
      ]
     },
     "execution_count": 105,
     "metadata": {},
     "output_type": "execute_result"
    }
   ],
   "source": [
    "# Getting Eva's score\n",
    "grades['Eva']"
   ]
  },
  {
   "cell_type": "code",
   "execution_count": 106,
   "metadata": {},
   "outputs": [
    {
     "data": {
      "text/plain": [
       "82"
      ]
     },
     "execution_count": 106,
     "metadata": {},
     "output_type": "execute_result"
    }
   ],
   "source": [
    "# Wally's score using .(dot)\n",
    "grades.Wally"
   ]
  },
  {
   "cell_type": "code",
   "execution_count": 107,
   "metadata": {},
   "outputs": [
    {
     "data": {
      "text/plain": [
       "dtype('int64')"
      ]
     },
     "execution_count": 107,
     "metadata": {},
     "output_type": "execute_result"
    }
   ],
   "source": [
    "# Built in d type attribute\n",
    "grades.dtype"
   ]
  },
  {
   "cell_type": "code",
   "execution_count": 108,
   "metadata": {},
   "outputs": [
    {
     "data": {
      "text/plain": [
       "array([90, 82, 79, 68, 95, 98, 58, 76, 72, 87, 89, 90], dtype=int64)"
      ]
     },
     "execution_count": 108,
     "metadata": {},
     "output_type": "execute_result"
    }
   ],
   "source": [
    "# Built in values attribute\n",
    "grades.values"
   ]
  },
  {
   "cell_type": "markdown",
   "metadata": {},
   "source": [
    "## Self-Check pg 266"
   ]
  },
  {
   "cell_type": "code",
   "execution_count": 109,
   "metadata": {},
   "outputs": [
    {
     "data": {
      "text/plain": [
       "0    79\n",
       "1    71\n",
       "2    82\n",
       "3    68\n",
       "4    64\n",
       "dtype: int32"
      ]
     },
     "execution_count": 109,
     "metadata": {},
     "output_type": "execute_result"
    }
   ],
   "source": [
    "# Converting Array of 5 random integers into a series.\n",
    "\n",
    "temps = np.random.randint(60, 101, 5)\n",
    "\n",
    "temperatures = pd.Series(temps)\n",
    "\n",
    "temperatures"
   ]
  },
  {
   "cell_type": "code",
   "execution_count": 110,
   "metadata": {},
   "outputs": [
    {
     "data": {
      "text/plain": [
       "64"
      ]
     },
     "execution_count": 110,
     "metadata": {},
     "output_type": "execute_result"
    }
   ],
   "source": [
    "temperatures.min()"
   ]
  },
  {
   "cell_type": "code",
   "execution_count": 111,
   "metadata": {},
   "outputs": [
    {
     "data": {
      "text/plain": [
       "82"
      ]
     },
     "execution_count": 111,
     "metadata": {},
     "output_type": "execute_result"
    }
   ],
   "source": [
    "temperatures.max()"
   ]
  },
  {
   "cell_type": "code",
   "execution_count": 112,
   "metadata": {},
   "outputs": [
    {
     "data": {
      "text/plain": [
       "72.8"
      ]
     },
     "execution_count": 112,
     "metadata": {},
     "output_type": "execute_result"
    }
   ],
   "source": [
    "temperatures.mean()"
   ]
  },
  {
   "cell_type": "code",
   "execution_count": 113,
   "metadata": {},
   "outputs": [
    {
     "data": {
      "text/plain": [
       "count     5.00000\n",
       "mean     72.80000\n",
       "std       7.52994\n",
       "min      64.00000\n",
       "25%      68.00000\n",
       "50%      71.00000\n",
       "75%      79.00000\n",
       "max      82.00000\n",
       "dtype: float64"
      ]
     },
     "execution_count": 113,
     "metadata": {},
     "output_type": "execute_result"
    }
   ],
   "source": [
    "temperatures.describe()"
   ]
  }
 ],
 "metadata": {
  "kernelspec": {
   "display_name": "Python (.venv)",
   "language": "python",
   "name": ".venv"
  },
  "language_info": {
   "codemirror_mode": {
    "name": "ipython",
    "version": 3
   },
   "file_extension": ".py",
   "mimetype": "text/x-python",
   "name": "python",
   "nbconvert_exporter": "python",
   "pygments_lexer": "ipython3",
   "version": "3.11.4"
  },
  "orig_nbformat": 4
 },
 "nbformat": 4,
 "nbformat_minor": 2
}
